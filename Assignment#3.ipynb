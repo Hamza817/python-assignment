{
 "cells": [
  {
   "cell_type": "code",
   "execution_count": 5,
   "id": "3e5c8cc8",
   "metadata": {},
   "outputs": [
    {
     "name": "stdout",
     "output_type": "stream",
     "text": [
      "Twinkle, twinkle, little star, \n",
      "\tHow I wonder what you are! \n",
      "\t\tUp above the world so high, \n",
      "\t\tLike a diamond in the sky. \n",
      "Twinkle, twinkle, little star, \n",
      "\tHow I wonder what you are!\n"
     ]
    }
   ],
   "source": [
    "\"\"\"1. Write a Python program to print the following string in a specific format (see the \n",
    "output).\"\"\"\n",
    "\n",
    "print(\"Twinkle, twinkle, little star, \\n\\tHow I wonder what you are! \\n\\t\\tUp above the world so high, \\n\\t\\tLike a diamond in the sky. \\nTwinkle, twinkle, little star, \\n\\tHow I wonder what you are!\")\n"
   ]
  },
  {
   "cell_type": "code",
   "execution_count": 9,
   "id": "dd5843ad",
   "metadata": {},
   "outputs": [
    {
     "name": "stdout",
     "output_type": "stream",
     "text": [
      "Python Version\n",
      "3.8.8 (default, Apr 13 2021, 15:08:03) [MSC v.1916 64 bit (AMD64)]\n"
     ]
    }
   ],
   "source": [
    "\"\"\"2. Write a Python program to get the Python version you are using \"\"\"\n",
    "\n",
    "import sys\n",
    "print(\"Python Version\")\n",
    "print(sys.version)"
   ]
  },
  {
   "cell_type": "code",
   "execution_count": 18,
   "id": "08ecfbb9",
   "metadata": {},
   "outputs": [
    {
     "name": "stdout",
     "output_type": "stream",
     "text": [
      "date : 2021-10-23 \n",
      "Time : 01:41:57\n"
     ]
    }
   ],
   "source": [
    "\"\"\"3. Write a Python program to display the current date and time. \"\"\"\n",
    "\n",
    "import datetime\n",
    "\n",
    "now = datetime.datetime.now()\n",
    "print(\"date :\",now.strftime(\"%Y-%m-%d \\nTime : %H:%M:%S\"))\n"
   ]
  },
  {
   "cell_type": "code",
   "execution_count": 19,
   "id": "6510abea",
   "metadata": {},
   "outputs": [
    {
     "name": "stdout",
     "output_type": "stream",
     "text": [
      "Input the radius of a circle :3.4\n",
      "area of circle is : 36.32151999999999\n"
     ]
    }
   ],
   "source": [
    "\"\"\"4. Write a Python program which accepts the radius of a circle from the user and compute \n",
    "the area. \"\"\"\n",
    "\n",
    "r = float (input(\"Input the radius of a circle :\"))\n",
    "# value of pi is 3.142\n",
    "pi = 3.142\n",
    "\n",
    "#formula for area of cirlce is = pi*r^2\n",
    "area = pi * r ** 2\n",
    "print(\"area of circle is :\",area)"
   ]
  },
  {
   "cell_type": "code",
   "execution_count": 24,
   "id": "4f5b5142",
   "metadata": {},
   "outputs": [
    {
     "name": "stdout",
     "output_type": "stream",
     "text": [
      "Input first name :Hamza\n",
      "Input last name :Azizullah\n",
      "User name :Azizullah Hamza\n"
     ]
    }
   ],
   "source": [
    "\"\"\"5. Write a Python program which accepts the user's first and last name and print them in \n",
    "reverse order with a space between them.\"\"\"\n",
    "\n",
    "first_name = input(\"Input first name :\")\n",
    "last_name = input(\"Input last name :\")\n",
    "print(\"User name :\"+last_name+\" \"+first_name)"
   ]
  },
  {
   "cell_type": "code",
   "execution_count": 16,
   "id": "d73e5c62",
   "metadata": {},
   "outputs": [
    {
     "name": "stdout",
     "output_type": "stream",
     "text": [
      "Input the first number :25\n",
      "Input the second number :45\n",
      "Addition is : 70\n"
     ]
    }
   ],
   "source": [
    "\"\"\"6. Write a python program which takes two inputs from user and print them addition \"\"\"\n",
    "\n",
    "num_1 = int (input(\"Input the first number :\"))\n",
    "num_2 = int (input(\"Input the second number :\"))\n",
    "add = num_1+num_2;\n",
    "print(\"Addition is :\",add)"
   ]
  },
  {
   "cell_type": "code",
   "execution_count": 2,
   "id": "83b152d4",
   "metadata": {},
   "outputs": [
    {
     "name": "stdout",
     "output_type": "stream",
     "text": [
      "English marks :85\n",
      "Islamiate marks :58\n",
      "Urdu marks :65\n",
      "Physics marks :78\n",
      "Maths marks :89\n",
      "Percentage is : 75.0\n",
      "A\n"
     ]
    }
   ],
   "source": [
    "\"\"\"7. Write a program which takes 5 inputs from user for different subject’s marks, total it \n",
    "and generate mark sheet using grades ?\"\"\"\n",
    "\n",
    "Eng = int (input(\"English marks :\"))\n",
    "Isl = int (input(\"Islamiate marks :\"))\n",
    "Urd = int (input(\"Urdu marks :\"))\n",
    "Phy = int (input(\"Physics marks :\"))\n",
    "Mat = int (input(\"Maths marks :\"))\n",
    "\n",
    "total = 500;\n",
    "percent = (Eng+Isl+Urd+Phy+Mat)/total * 100;\n",
    "print(\"Percentage is :\",percent)\n",
    "\n",
    "if percent < 100 and percent > 80:\n",
    "                 print(\"A+\")\n",
    "                  \n",
    "elif percent < 80 and percent > 70:\n",
    "                 print(\"A\")\n",
    "elif percent < 70 and percent > 60:\n",
    "                 print(\"B\")\n",
    "elif percent < 60 and percent > 50:\n",
    "                 print(\"C\")\n",
    "elif percent < 50 and percent > 40:\n",
    "                 print(\"D\")\n",
    "elif percent < 40 and percent > 30:\n",
    "                 print(\"E\")\n",
    "else:\n",
    "                 print(\"Failed\")"
   ]
  },
  {
   "cell_type": "code",
   "execution_count": 38,
   "id": "eec70d08",
   "metadata": {},
   "outputs": [
    {
     "name": "stdout",
     "output_type": "stream",
     "text": [
      "Input the number :7\n",
      "Odd\n"
     ]
    }
   ],
   "source": [
    "\"\"\"8. Write a program which take input from user and identify that the given number is even \n",
    "or odd? \"\"\"\n",
    "\n",
    "a = int (input(\"Input the number :\"))\n",
    "\n",
    "if a%2 == 0:\n",
    "    print(\"Even\")\n",
    "else:\n",
    "    print(\"Odd\")"
   ]
  },
  {
   "cell_type": "code",
   "execution_count": 39,
   "id": "29c056f5",
   "metadata": {},
   "outputs": [
    {
     "name": "stdout",
     "output_type": "stream",
     "text": [
      "length of the list is : 4\n"
     ]
    }
   ],
   "source": [
    "\"\"\"9. Write a program which print the length of the list? \"\"\"\n",
    "\n",
    "list_length = ['Apple','Orange','banana','watermelon']\n",
    "number = len(list_length)\n",
    "\n",
    "print(\"length of the list is :\", number)"
   ]
  },
  {
   "cell_type": "code",
   "execution_count": 5,
   "id": "a74cc90b",
   "metadata": {},
   "outputs": [
    {
     "name": "stdout",
     "output_type": "stream",
     "text": [
      "28\n"
     ]
    }
   ],
   "source": [
    "\"\"\"10.Write a Python program to sum all the numeric items in a list?\"\"\"\n",
    "\n",
    "lst = [1,4,5,7,9,2]\n",
    "print(sum(lst))"
   ]
  },
  {
   "cell_type": "code",
   "execution_count": 7,
   "id": "4041a383",
   "metadata": {},
   "outputs": [
    {
     "name": "stdout",
     "output_type": "stream",
     "text": [
      "Largest number is : 67\n"
     ]
    }
   ],
   "source": [
    "\"\"\"11.Write a Python program to get the largest number from a numeric list.\"\"\"\n",
    "\n",
    "new = [23,67,45,34,12,11]\n",
    "print(\"Largest number is :\",max(new))"
   ]
  },
  {
   "cell_type": "code",
   "execution_count": 18,
   "id": "a1aaafb3",
   "metadata": {},
   "outputs": [
    {
     "name": "stdout",
     "output_type": "stream",
     "text": [
      "[1, 1, 2, 3, 5]\n"
     ]
    }
   ],
   "source": [
    "\"\"\"12. Take a list, say for example this one: \n",
    " \n",
    "a = [1, 1, 2, 3, 5, 8, 13, 21, 34, 55, 89] \n",
    " Write a program that prints out all the elements of the list that are less than 5.\"\"\"\n",
    "\n",
    "a = [1, 1, 2, 3, 5, 8, 13, 21, 34, 55, 89]\n",
    "b = []\n",
    "for i in a:\n",
    "    if i <= 5:\n",
    "        b.append(i)\n",
    "print(b)"
   ]
  },
  {
   "cell_type": "code",
   "execution_count": null,
   "id": "d5dc9551",
   "metadata": {},
   "outputs": [],
   "source": []
  }
 ],
 "metadata": {
  "kernelspec": {
   "display_name": "Python 3",
   "language": "python",
   "name": "python3"
  },
  "language_info": {
   "codemirror_mode": {
    "name": "ipython",
    "version": 3
   },
   "file_extension": ".py",
   "mimetype": "text/x-python",
   "name": "python",
   "nbconvert_exporter": "python",
   "pygments_lexer": "ipython3",
   "version": "3.8.8"
  }
 },
 "nbformat": 4,
 "nbformat_minor": 5
}
